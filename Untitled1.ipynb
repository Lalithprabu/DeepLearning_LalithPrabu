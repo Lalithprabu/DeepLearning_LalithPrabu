{
  "nbformat": 4,
  "nbformat_minor": 0,
  "metadata": {
    "colab": {
      "name": "Untitled1.ipynb",
      "provenance": [],
      "collapsed_sections": [],
      "authorship_tag": "ABX9TyPSqHIU00GKG6hO6YcBRo3W",
      "include_colab_link": true
    },
    "kernelspec": {
      "name": "python3",
      "display_name": "Python 3"
    },
    "language_info": {
      "name": "python"
    },
    "accelerator": "GPU"
  },
  "cells": [
    {
      "cell_type": "markdown",
      "metadata": {
        "id": "view-in-github",
        "colab_type": "text"
      },
      "source": [
        "<a href=\"https://colab.research.google.com/github/Lalithprabu/DeepLearning_LalithPrabu/blob/main/Untitled1.ipynb\" target=\"_parent\"><img src=\"https://colab.research.google.com/assets/colab-badge.svg\" alt=\"Open In Colab\"/></a>"
      ]
    },
    {
      "cell_type": "code",
      "metadata": {
        "colab": {
          "base_uri": "https://localhost:8080/"
        },
        "id": "uXM2uBn6zX9E",
        "outputId": "e7a6803e-bc75-4da6-96f4-f493f2da5a62"
      },
      "source": [
        "pip install mitdeeplearning"
      ],
      "execution_count": 1,
      "outputs": [
        {
          "output_type": "stream",
          "name": "stdout",
          "text": [
            "Collecting mitdeeplearning\n",
            "  Downloading mitdeeplearning-0.2.0.tar.gz (2.1 MB)\n",
            "\u001b[K     |████████████████████████████████| 2.1 MB 5.3 MB/s \n",
            "\u001b[?25hRequirement already satisfied: numpy in /usr/local/lib/python3.7/dist-packages (from mitdeeplearning) (1.19.5)\n",
            "Requirement already satisfied: regex in /usr/local/lib/python3.7/dist-packages (from mitdeeplearning) (2019.12.20)\n",
            "Requirement already satisfied: tqdm in /usr/local/lib/python3.7/dist-packages (from mitdeeplearning) (4.62.0)\n",
            "Requirement already satisfied: gym in /usr/local/lib/python3.7/dist-packages (from mitdeeplearning) (0.17.3)\n",
            "Requirement already satisfied: scipy in /usr/local/lib/python3.7/dist-packages (from gym->mitdeeplearning) (1.4.1)\n",
            "Requirement already satisfied: cloudpickle<1.7.0,>=1.2.0 in /usr/local/lib/python3.7/dist-packages (from gym->mitdeeplearning) (1.3.0)\n",
            "Requirement already satisfied: pyglet<=1.5.0,>=1.4.0 in /usr/local/lib/python3.7/dist-packages (from gym->mitdeeplearning) (1.5.0)\n",
            "Requirement already satisfied: future in /usr/local/lib/python3.7/dist-packages (from pyglet<=1.5.0,>=1.4.0->gym->mitdeeplearning) (0.16.0)\n",
            "Building wheels for collected packages: mitdeeplearning\n",
            "  Building wheel for mitdeeplearning (setup.py) ... \u001b[?25l\u001b[?25hdone\n",
            "  Created wheel for mitdeeplearning: filename=mitdeeplearning-0.2.0-py3-none-any.whl size=2115442 sha256=6914a295ac4e68850ff3c5a5704097239bc95ef749a0548dccc6bd3426e2771d\n",
            "  Stored in directory: /root/.cache/pip/wheels/9a/b9/4f/99b7c8c5c75355550b83e1fcfc02956fb40c35eb01e2262877\n",
            "Successfully built mitdeeplearning\n",
            "Installing collected packages: mitdeeplearning\n",
            "Successfully installed mitdeeplearning-0.2.0\n"
          ]
        }
      ]
    },
    {
      "cell_type": "code",
      "metadata": {
        "id": "PSnafNCN1EhR"
      },
      "source": [
        "import mitdeeplearning as mdl"
      ],
      "execution_count": 2,
      "outputs": []
    },
    {
      "cell_type": "code",
      "metadata": {
        "id": "Xj3nvn_g14Aw"
      },
      "source": [
        "import tensorflow as tf"
      ],
      "execution_count": 3,
      "outputs": []
    },
    {
      "cell_type": "code",
      "metadata": {
        "id": "s_KjIwH422fX"
      },
      "source": [
        "import numpy as np\n",
        "import matplotlib.pyplot as plt"
      ],
      "execution_count": 4,
      "outputs": []
    },
    {
      "cell_type": "code",
      "metadata": {
        "id": "4TvYF0Lq7z7V"
      },
      "source": [
        "#Dense Layer\n",
        "class MyDenseLayer(tf.keras.layers.Layer):\n",
        "  def _init_(self, input_dim, output_dim):\n",
        "    super(MyDenseLayer, self)._init_() \n",
        "    self.W = self_add_weight([input_dim, output_dim]) #Initiliaze weight\n",
        "    self.b = self_add_weight([1, output_dim]) #Initiliaze bias\n",
        "  def call(self, inputs):\n",
        "    z = tf.matmul(inputs, self.w) + self.b #Forward propogate the inputs\n",
        "    output = tf.math.sigmoid(z) #Feed through non linear activation\n",
        "    return output"
      ],
      "execution_count": null,
      "outputs": []
    },
    {
      "cell_type": "code",
      "metadata": {
        "id": "Lf8WHFS6bLO5"
      },
      "source": [
        "#Gradient Descent\n",
        "weights = tf.Variable([tf.random.normal()])\n",
        "while True: #loop forever\n",
        "  with GradientTape() as g:\n",
        "    loss = compute_loss(weights)\n",
        "    gradient = g.gradient(loss, weights)\n",
        "weights = weights - lr * gradient"
      ],
      "execution_count": null,
      "outputs": []
    },
    {
      "cell_type": "code",
      "metadata": {
        "id": "G3t52oaGelXD"
      },
      "source": [
        "model = tf.keras.Sequential([...])\n",
        "#Choose optimizer\n",
        "optimizer = tf.keras.optimizer.SGD()\n",
        "while True: #Loop forever\n",
        "  prediction = model(x) #froward pass through the network\n",
        "  with tf.GradientTape() as tape:\n",
        "    loss = compute_loss(y, prediction) #Compute loss\n",
        "    grade = tape.gradient(loss, model.trainable_variables)\n",
        "    optimizer.apply_gradients(zip(grade, model.trainable_variables) #Update the weights using gradient\n"
      ],
      "execution_count": null,
      "outputs": []
    }
  ]
}